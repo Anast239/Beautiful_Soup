{
 "cells": [
  {
   "cell_type": "markdown",
   "metadata": {},
   "source": [
    "#  Задание"
   ]
  },
  {
   "cell_type": "markdown",
   "metadata": {},
   "source": [
    "Из БРС (http://www.rating.unecon.ru/?f=1&y=2017&up=11686&s=1&g=11831&sort=fio) выгрузите список своих баллов за 1-ый семестр."
   ]
  },
  {
   "cell_type": "markdown",
   "metadata": {},
   "source": [
    "### Пример"
   ]
  },
  {
   "cell_type": "markdown",
   "metadata": {},
   "source": [
    "№  -  18\n",
    "<br>Фамилия, имя, отчество  -  Смирнова Анастасия Владимировна\n",
    "<br>АлгебраиГеомет  -  92\n",
    "<br>Арх.комп  -  71\n",
    "<br>Дискр.Мат.  -  85\n",
    "<br>ИЯ  -  74\n",
    "<br>История  -  95\n",
    "<br>Мат.ан.(I,II,III)  -  100\n",
    "<br>Осн.инф  -  95\n",
    "<br>Физич культ и спорт (эл дисц)  -  None\n",
    "<br>Итоговые  -  612"
   ]
  },
  {
   "cell_type": "markdown",
   "metadata": {},
   "source": [
    "# Решение"
   ]
  },
  {
   "cell_type": "code",
   "execution_count": 3,
   "metadata": {},
   "outputs": [
    {
     "name": "stdout",
     "output_type": "stream",
     "text": [
      "№  -  18\n",
      "Фамилия, имя, отчество  -  Смирнова Анастасия Владимировна\n",
      "АлгебраиГеомет  -  92\n",
      "Арх.комп  -  71\n",
      "Дискр.Мат.  -  85\n",
      "ИЯ  -  74\n",
      "История  -  95\n",
      "Мат.ан.(I,II,III)  -  100\n",
      "Осн.инф  -  95\n",
      "Физич культ и спорт (эл дисц)  -  None\n",
      "Итоговые  -  612\n"
     ]
    }
   ],
   "source": [
    "import requests\n",
    "from bs4 import BeautifulSoup\n",
    "import re\n",
    "\n",
    "response = requests.get(\"http://www.rating.unecon.ru/?f=1&y=2017&up=11686&s=1&g=11831&sort=fio\")\n",
    "soup = BeautifulSoup(response.content.decode(response.encoding), 'html.parser')\n",
    "\n",
    "m=[i.string for i in soup.find('td', text='Смирнова Анастасия Владимировна').parent.find_all('td')]\n",
    "n=[i.contents[0] for i in soup.find_all('th')]\n",
    "\n",
    "for i in range(len(m)):\n",
    "    print(n[i], ' - ', m[i]) "
   ]
  }
 ],
 "metadata": {
  "kernelspec": {
   "display_name": "Python 3",
   "language": "python",
   "name": "python3"
  },
  "language_info": {
   "codemirror_mode": {
    "name": "ipython",
    "version": 3
   },
   "file_extension": ".py",
   "mimetype": "text/x-python",
   "name": "python",
   "nbconvert_exporter": "python",
   "pygments_lexer": "ipython3",
   "version": "3.6.3"
  }
 },
 "nbformat": 4,
 "nbformat_minor": 2
}
